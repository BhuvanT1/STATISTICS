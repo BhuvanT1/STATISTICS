{
  "nbformat": 4,
  "nbformat_minor": 0,
  "metadata": {
    "colab": {
      "provenance": []
    },
    "kernelspec": {
      "name": "python3",
      "display_name": "Python 3"
    },
    "language_info": {
      "name": "python"
    }
  },
  "cells": [
    {
      "cell_type": "code",
      "execution_count": null,
      "metadata": {
        "id": "JT8jI-AVLOM4"
      },
      "outputs": [],
      "source": []
    },
    {
      "cell_type": "markdown",
      "source": [
        "#ASSIGNMENT QUESTIONS"
      ],
      "metadata": {
        "id": "E_3L04WuLPCB"
      }
    },
    {
      "cell_type": "markdown",
      "source": [
        "#Q1. Explain the different types of data (qualitative and quantitative) and provide examples of each. Discuss nominal, ordinal, interval, and ratio scales.\n",
        "    --> Qualitative Data: Non-numerical data that describes qualities or characteristics. Examples include colors, names, labels, and other categorical data.\n",
        "\n",
        "    -->Nominal Scale: Categories without any order.\n",
        "\n",
        "    -->Ordinal Scale: Categories with a specific order but no consistent difference between them .\n",
        "\n",
        "    -->Quantitative Data: Numerical data that represents counts or measurements.\n",
        "\n",
        "    -->Interval Scale: Numerical data with equal intervals between values but no true zero point.\n",
        "\n",
        "    -->Ratio Scale: Numerical data with equal intervals and a true zero point."
      ],
      "metadata": {
        "id": "VYO10_KbLR1M"
      }
    },
    {
      "cell_type": "markdown",
      "source": [
        "#Q2. What are the measures of central tendency, and when should you use each? Discuss the mean, median, and mode with examples and situations where each is appropriate.\n",
        "    -->Mean: The average of all data points. Use it when data is symmetrically distributed without outliers. Example: Mean age of a group of people.\n",
        "\n",
        "    -->Median: The middle value of a data set. Use it when data has outliers or is skewed. Example: Median income in a neighborhood.\n",
        "\n",
        "    -->Mode: The most frequently occurring value. Use it for categorical data or to identify the most common value. Example: Most common blood type in a population."
      ],
      "metadata": {
        "id": "VIrpojcVLqIS"
      }
    },
    {
      "cell_type": "markdown",
      "source": [
        "#Q3. Explain the concept of dispersion. How do variance and standard deviation measure the spread of data?\n",
        "    -->Dispersion measures the spread of data.\n",
        "\n",
        "    -->Variance: The average squared difference from the mean. It gives a measure of how spread out the data is.\n",
        "\n",
        "    -->Standard Deviation: The square root of the variance. It provides a measure of the average distance from the mean. High variance/standard deviation indicates data is spread out; low values indicate data is clustered around the mean."
      ],
      "metadata": {
        "id": "EkTgTgrsMC4n"
      }
    },
    {
      "cell_type": "markdown",
      "source": [
        "#Q4. What is a box plot, and what can it tell you about the distribution of data?\n",
        "    --> A box plot (or whisker plot) is a graphical representation of data showing the distribution's quartiles.\n",
        "\n",
        "    -->Median: Middle value of the data.\n",
        "\n",
        "    -->Quartiles: Divide the data into four equal parts.\n",
        "\n",
        "    -->Whiskers: Indicate variability outside the upper and lower quartiles.\n",
        "\n",
        "    -->Outliers: Data points outside the whiskers. It helps identify the central tendency, spread, and potential outliers in the data."
      ],
      "metadata": {
        "id": "LziVt6OUMNv8"
      }
    },
    {
      "cell_type": "markdown",
      "source": [
        "#Q5. Discuss the role of random sampling in making inferences about populations.\n",
        "    -->Random sampling involves selecting a subset of individuals from a population in a way that each individual has an equal chance of being chosen.\n",
        "\n",
        "    -->Role: It ensures that the sample represents the population, allowing for unbiased inferences and generalizations about the population."
      ],
      "metadata": {
        "id": "EPzFLSgtMamj"
      }
    },
    {
      "cell_type": "markdown",
      "source": [
        "#Q6.Explain the concept of skewness and its types. How does skewness affect the interpretation of data?\n",
        "    -->Skewness measures the asymmetry of data distribution.\n",
        "\n",
        "    -->Positive Skew: Tail on the right side (mean > median).\n",
        "\n",
        "    -->Negative Skew: Tail on the left side (mean < median). Skewness affects the interpretation of data by indicating the direction and extent of asymmetry, influencing the choice of statistical methods."
      ],
      "metadata": {
        "id": "qVuo0JuTMmnW"
      }
    },
    {
      "cell_type": "markdown",
      "source": [
        "#Q7. What is the interquartile range (IQR), and how is it used to detect outliers?\n",
        "    -->The IQR is the range between the first (Q1) and third quartiles (Q3) and represents the middle 50% of the data.\n",
        "\n",
        "    -->Detection of Outliers: Data points outside 1.5 times the IQR from Q1 and Q3 are considered outliers."
      ],
      "metadata": {
        "id": "K830OaP5My8a"
      }
    },
    {
      "cell_type": "markdown",
      "source": [
        "#Q8. Discuss the conditions under which the binomial distribution is used.\n",
        "    -->The binomial distribution applies to situations with:\n",
        "\n",
        "    -->A fixed number of trials.\n",
        "\n",
        "    -->Two possible outcomes (success or failure).\n",
        "\n",
        "    -->Constant probability of success.\n",
        "\n",
        "    -->Independent trials. Example: Flipping a coin multiple times and counting the number of heads."
      ],
      "metadata": {
        "id": "8h5hAyZaM8dj"
      }
    },
    {
      "cell_type": "markdown",
      "source": [
        "#Q9. Explain the properties of the normal distribution and the empirical rule (68-95-99.7 rule).\n",
        "    -->The normal distribution is a symmetric, bell-shaped distribution characterized by its mean and standard deviation.\n",
        "\n",
        "    -->Empirical Rule (68-95-99.7 Rule):\n",
        "\n",
        "    -->68% of data falls within 1 standard deviation from the mean.\n",
        "\n",
        "    -->95% within 2 standard deviations.\n",
        "\n",
        "    -->99.7% within 3 standard deviations."
      ],
      "metadata": {
        "id": "ouHy97XeNLNL"
      }
    },
    {
      "cell_type": "code",
      "source": [],
      "metadata": {
        "id": "Eu2g426lLRZn"
      },
      "execution_count": null,
      "outputs": []
    },
    {
      "cell_type": "markdown",
      "source": [
        "#Q10. Provide a real-life example of a Poisson process and calculate the probability for a specific event.\n",
        "    -->Example: Number of emails received per hour. Calculation: If the average rate (λ) is 5 emails/hour, the probability of receiving exactly 3 emails in an hour is given by:\n",
        "\n",
        "    𝑃(𝑋=𝑘)=(𝑒^(−𝜆)*𝜆^𝑘)/𝑘!\n",
        "\n",
        "    𝑃(𝑋=3)=(𝑒^(−5)*5^(3))/3!≈0.14"
      ],
      "metadata": {
        "id": "GeS6imNENdDt"
      }
    },
    {
      "cell_type": "markdown",
      "source": [
        "#Q11. Explain what a random variable is and differentiate between discrete and continuous random variables.\n",
        "    -->A random variable is a variable whose value is determined by the outcome of a random event.\n",
        "\n",
        "    -->Discrete Random Variable: Takes on a finite or countable number of values, example: number of heads in coin tosses.\n",
        "\n",
        "    -->Continuous Random Variable: Takes on an infinite number of values within a given range, example: height of students."
      ],
      "metadata": {
        "id": "K1fvysjNOdiV"
      }
    },
    {
      "cell_type": "markdown",
      "source": [
        "#Q12. Provide an example dataset, calculate both covariance and correlation, and interpret the results.\n",
        "    -->Example Dataset:\n",
        "\n",
        "    X=[1,2,3,4,5]\n",
        "    Y=[2,4,6,8,10]\n",
        "    Covariance Calculation:\n",
        "\n",
        "    Cov(𝑋,𝑌)=summation of ((𝑋𝑖−𝑋)(𝑌𝑖-𝑌))/𝑛−1\n",
        "    Correlation Calculation:\n",
        "\n",
        "    Corr(𝑋,𝑌)=(Cov(𝑋,𝑌))/𝜎𝑋𝜎𝑌\n",
        "    Covariance: Measures the direction of the linear relationship between variables.\n",
        "\n",
        "    Correlation: Measures both the strength and direction of the linear relationship, ranging from -1 to 1.\n",
        "\n",
        "    Interpreting the results helps understand the relationship between variables."
      ],
      "metadata": {
        "id": "-dCFOUYfO-Ab"
      }
    },
    {
      "cell_type": "code",
      "source": [],
      "metadata": {
        "id": "VEEqgXU5NnQW"
      },
      "execution_count": null,
      "outputs": []
    }
  ]
}